{
 "cells": [
  {
   "cell_type": "markdown",
   "metadata": {},
   "source": [
    "# Here we can see how to use the Room entity."
   ]
  },
  {
   "cell_type": "markdown",
   "metadata": {},
   "source": [
    "## First we import it from the source code."
   ]
  },
  {
   "cell_type": "code",
   "execution_count": null,
   "metadata": {},
   "outputs": [],
   "source": [
    "from okami.src.domain.entities.room import Room"
   ]
  },
  {
   "cell_type": "markdown",
   "metadata": {},
   "source": [
    "## Then we need to instanciate a Room object"
   ]
  },
  {
   "cell_type": "code",
   "execution_count": null,
   "metadata": {},
   "outputs": [],
   "source": [
    "room = Room()"
   ]
  },
  {
   "cell_type": "markdown",
   "metadata": {},
   "source": [
    "## The next step is setting the vertixes of the actual room we are dealing with. We can do this in two ways:"
   ]
  },
  {
   "cell_type": "markdown",
   "metadata": {},
   "source": [
    "### First we can set it by code, sending it as a parameter to the method."
   ]
  },
  {
   "cell_type": "code",
   "execution_count": null,
   "metadata": {},
   "outputs": [],
   "source": [
    "vertix1 = (0, 0)\n",
    "vertix2 = (5, 0)\n",
    "vertix3 = (5, 5)\n",
    "vertix4 = (0, 5)\n",
    "\n",
    "vertices = [vertix1, vertix2, vertix3, vertix4]\n",
    "\n",
    "room.set_vertixes(vertices = vertices)"
   ]
  },
  {
   "cell_type": "markdown",
   "metadata": {},
   "source": [
    "### Or we can do it interactively."
   ]
  },
  {
   "cell_type": "code",
   "execution_count": null,
   "metadata": {},
   "outputs": [],
   "source": [
    "room.enter_vertices()"
   ]
  },
  {
   "cell_type": "markdown",
   "metadata": {},
   "source": [
    "## Now we must set the position of the sensors that are in the room. Similarly, we can do it via code or interactively."
   ]
  },
  {
   "cell_type": "code",
   "execution_count": null,
   "metadata": {},
   "outputs": [],
   "source": [
    "sensor1 = Sensor(x = 2, y = 1, z = 1.5)\n",
    "sensor2 = Sensor(x = 2, y = 1, z = 1.5)\n",
    "sensor3 = Sensor(x = 3, y = 2, z = 1.5)\n",
    "sensor4 = Sensor(x = 2, y = 3, z = 1.5)\n",
    "\n",
    "sensors = [sensor1, sensor2, sensor3, sensor4]\n",
    "room.set_sensors(sensors = sensors)"
   ]
  },
  {
   "cell_type": "markdown",
   "metadata": {},
   "source": [
    "### Or"
   ]
  },
  {
   "cell_type": "code",
   "execution_count": null,
   "metadata": {},
   "outputs": [],
   "source": [
    "room.enter_sensors()"
   ]
  },
  {
   "cell_type": "markdown",
   "metadata": {},
   "source": [
    "## After that, we can create a grid of points that will permeate the room. We will use this grid to make some calculations easier down the line, so bear with it for now."
   ]
  },
  {
   "cell_type": "code",
   "execution_count": null,
   "metadata": {},
   "outputs": [],
   "source": [
    "room.create_grid()"
   ]
  },
  {
   "cell_type": "markdown",
   "metadata": {},
   "source": [
    "## We can then plot it to see how things are set."
   ]
  },
  {
   "cell_type": "code",
   "execution_count": null,
   "metadata": {},
   "outputs": [],
   "source": [
    "room.plot_grid()"
   ]
  },
  {
   "cell_type": "markdown",
   "metadata": {},
   "source": [
    "## On a final note, the resolution of the grid can be specified when instanciating the Room object. The default is 0.25. This number is the distance, in meter, between the points, in both dimensions."
   ]
  },
  {
   "cell_type": "code",
   "execution_count": null,
   "metadata": {},
   "outputs": [],
   "source": [
    "room = Room(resolution = 0.1)\n",
    "\n",
    "vertix1 = (0, 0)\n",
    "vertix2 = (5, 0)\n",
    "vertix3 = (5, 5)\n",
    "vertix4 = (0, 5)\n",
    "\n",
    "vertices = [vertix1, vertix2, vertix3, vertix4]\n",
    "\n",
    "sensor1 = Sensor(x = 2, y = 1, z = 1.5)\n",
    "sensor2 = Sensor(x = 2, y = 1, z = 1.5)\n",
    "sensor3 = Sensor(x = 3, y = 2, z = 1.5)\n",
    "sensor4 = Sensor(x = 2, y = 3, z = 1.5)\n",
    "\n",
    "sensors = [sensor1, sensor2, sensor3, sensor4]\n",
    "room.set_sensors(sensors = sensors)\n",
    "\n",
    "room.create_grid()\n",
    "\n",
    "room.plot_grid()"
   ]
  }
 ],
 "metadata": {
  "interpreter": {
   "hash": "4b943cb3590011796b24abfea0773f53ee58faaaa93e85a7669cd401a35d2a9c"
  },
  "kernelspec": {
   "display_name": "Python 3.8.8 64-bit ('okami-wP4eea8h-py3.8': poetry)",
   "language": "python",
   "name": "python3"
  },
  "language_info": {
   "codemirror_mode": {
    "name": "ipython",
    "version": 3
   },
   "file_extension": ".py",
   "mimetype": "text/x-python",
   "name": "python",
   "nbconvert_exporter": "python",
   "pygments_lexer": "ipython3",
   "version": "3.8.8"
  },
  "orig_nbformat": 4
 },
 "nbformat": 4,
 "nbformat_minor": 2
}
